{
  "nbformat": 4,
  "nbformat_minor": 0,
  "metadata": {
    "colab": {
      "name": "NC.ipynb",
      "provenance": []
    },
    "kernelspec": {
      "name": "python3",
      "display_name": "Python 3"
    },
    "language_info": {
      "name": "python"
    },
    "accelerator": "GPU",
    "gpuClass": "standard",
    "widgets": {
      "application/vnd.jupyter.widget-state+json": {
        "bf77258a8640479982cb8c0f40bcc1cd": {
          "model_module": "@jupyter-widgets/controls",
          "model_name": "HBoxModel",
          "model_module_version": "1.5.0",
          "state": {
            "_dom_classes": [],
            "_model_module": "@jupyter-widgets/controls",
            "_model_module_version": "1.5.0",
            "_model_name": "HBoxModel",
            "_view_count": null,
            "_view_module": "@jupyter-widgets/controls",
            "_view_module_version": "1.5.0",
            "_view_name": "HBoxView",
            "box_style": "",
            "children": [
              "IPY_MODEL_ee530a5e92f64cd2a9c2556c66866c6c",
              "IPY_MODEL_a5f6be86765344de8d3c65cba459fdf1",
              "IPY_MODEL_869a07e475154e9981f36067a7a1c4e9"
            ],
            "layout": "IPY_MODEL_39a5d6c451dc464e892c5ad6948ef374"
          }
        },
        "ee530a5e92f64cd2a9c2556c66866c6c": {
          "model_module": "@jupyter-widgets/controls",
          "model_name": "HTMLModel",
          "model_module_version": "1.5.0",
          "state": {
            "_dom_classes": [],
            "_model_module": "@jupyter-widgets/controls",
            "_model_module_version": "1.5.0",
            "_model_name": "HTMLModel",
            "_view_count": null,
            "_view_module": "@jupyter-widgets/controls",
            "_view_module_version": "1.5.0",
            "_view_name": "HTMLView",
            "description": "",
            "description_tooltip": null,
            "layout": "IPY_MODEL_9a428c61121a433291112a9e242e38ae",
            "placeholder": "​",
            "style": "IPY_MODEL_3b0c5488f5be481aa2bc48d1f848564c",
            "value": "100%"
          }
        },
        "a5f6be86765344de8d3c65cba459fdf1": {
          "model_module": "@jupyter-widgets/controls",
          "model_name": "FloatProgressModel",
          "model_module_version": "1.5.0",
          "state": {
            "_dom_classes": [],
            "_model_module": "@jupyter-widgets/controls",
            "_model_module_version": "1.5.0",
            "_model_name": "FloatProgressModel",
            "_view_count": null,
            "_view_module": "@jupyter-widgets/controls",
            "_view_module_version": "1.5.0",
            "_view_name": "ProgressView",
            "bar_style": "success",
            "description": "",
            "description_tooltip": null,
            "layout": "IPY_MODEL_83d73d87dddd499a893178ebd3c58fb7",
            "max": 46830571,
            "min": 0,
            "orientation": "horizontal",
            "style": "IPY_MODEL_49edd044a7fd4db3a3d949f9746735a2",
            "value": 46830571
          }
        },
        "869a07e475154e9981f36067a7a1c4e9": {
          "model_module": "@jupyter-widgets/controls",
          "model_name": "HTMLModel",
          "model_module_version": "1.5.0",
          "state": {
            "_dom_classes": [],
            "_model_module": "@jupyter-widgets/controls",
            "_model_module_version": "1.5.0",
            "_model_name": "HTMLModel",
            "_view_count": null,
            "_view_module": "@jupyter-widgets/controls",
            "_view_module_version": "1.5.0",
            "_view_name": "HTMLView",
            "description": "",
            "description_tooltip": null,
            "layout": "IPY_MODEL_9855fe720fe64d6c864a01caf1a8d752",
            "placeholder": "​",
            "style": "IPY_MODEL_69a17f3ca09149948ce2c97e5f156f34",
            "value": " 44.7M/44.7M [00:00&lt;00:00, 162MB/s]"
          }
        },
        "39a5d6c451dc464e892c5ad6948ef374": {
          "model_module": "@jupyter-widgets/base",
          "model_name": "LayoutModel",
          "model_module_version": "1.2.0",
          "state": {
            "_model_module": "@jupyter-widgets/base",
            "_model_module_version": "1.2.0",
            "_model_name": "LayoutModel",
            "_view_count": null,
            "_view_module": "@jupyter-widgets/base",
            "_view_module_version": "1.2.0",
            "_view_name": "LayoutView",
            "align_content": null,
            "align_items": null,
            "align_self": null,
            "border": null,
            "bottom": null,
            "display": null,
            "flex": null,
            "flex_flow": null,
            "grid_area": null,
            "grid_auto_columns": null,
            "grid_auto_flow": null,
            "grid_auto_rows": null,
            "grid_column": null,
            "grid_gap": null,
            "grid_row": null,
            "grid_template_areas": null,
            "grid_template_columns": null,
            "grid_template_rows": null,
            "height": null,
            "justify_content": null,
            "justify_items": null,
            "left": null,
            "margin": null,
            "max_height": null,
            "max_width": null,
            "min_height": null,
            "min_width": null,
            "object_fit": null,
            "object_position": null,
            "order": null,
            "overflow": null,
            "overflow_x": null,
            "overflow_y": null,
            "padding": null,
            "right": null,
            "top": null,
            "visibility": null,
            "width": null
          }
        },
        "9a428c61121a433291112a9e242e38ae": {
          "model_module": "@jupyter-widgets/base",
          "model_name": "LayoutModel",
          "model_module_version": "1.2.0",
          "state": {
            "_model_module": "@jupyter-widgets/base",
            "_model_module_version": "1.2.0",
            "_model_name": "LayoutModel",
            "_view_count": null,
            "_view_module": "@jupyter-widgets/base",
            "_view_module_version": "1.2.0",
            "_view_name": "LayoutView",
            "align_content": null,
            "align_items": null,
            "align_self": null,
            "border": null,
            "bottom": null,
            "display": null,
            "flex": null,
            "flex_flow": null,
            "grid_area": null,
            "grid_auto_columns": null,
            "grid_auto_flow": null,
            "grid_auto_rows": null,
            "grid_column": null,
            "grid_gap": null,
            "grid_row": null,
            "grid_template_areas": null,
            "grid_template_columns": null,
            "grid_template_rows": null,
            "height": null,
            "justify_content": null,
            "justify_items": null,
            "left": null,
            "margin": null,
            "max_height": null,
            "max_width": null,
            "min_height": null,
            "min_width": null,
            "object_fit": null,
            "object_position": null,
            "order": null,
            "overflow": null,
            "overflow_x": null,
            "overflow_y": null,
            "padding": null,
            "right": null,
            "top": null,
            "visibility": null,
            "width": null
          }
        },
        "3b0c5488f5be481aa2bc48d1f848564c": {
          "model_module": "@jupyter-widgets/controls",
          "model_name": "DescriptionStyleModel",
          "model_module_version": "1.5.0",
          "state": {
            "_model_module": "@jupyter-widgets/controls",
            "_model_module_version": "1.5.0",
            "_model_name": "DescriptionStyleModel",
            "_view_count": null,
            "_view_module": "@jupyter-widgets/base",
            "_view_module_version": "1.2.0",
            "_view_name": "StyleView",
            "description_width": ""
          }
        },
        "83d73d87dddd499a893178ebd3c58fb7": {
          "model_module": "@jupyter-widgets/base",
          "model_name": "LayoutModel",
          "model_module_version": "1.2.0",
          "state": {
            "_model_module": "@jupyter-widgets/base",
            "_model_module_version": "1.2.0",
            "_model_name": "LayoutModel",
            "_view_count": null,
            "_view_module": "@jupyter-widgets/base",
            "_view_module_version": "1.2.0",
            "_view_name": "LayoutView",
            "align_content": null,
            "align_items": null,
            "align_self": null,
            "border": null,
            "bottom": null,
            "display": null,
            "flex": null,
            "flex_flow": null,
            "grid_area": null,
            "grid_auto_columns": null,
            "grid_auto_flow": null,
            "grid_auto_rows": null,
            "grid_column": null,
            "grid_gap": null,
            "grid_row": null,
            "grid_template_areas": null,
            "grid_template_columns": null,
            "grid_template_rows": null,
            "height": null,
            "justify_content": null,
            "justify_items": null,
            "left": null,
            "margin": null,
            "max_height": null,
            "max_width": null,
            "min_height": null,
            "min_width": null,
            "object_fit": null,
            "object_position": null,
            "order": null,
            "overflow": null,
            "overflow_x": null,
            "overflow_y": null,
            "padding": null,
            "right": null,
            "top": null,
            "visibility": null,
            "width": null
          }
        },
        "49edd044a7fd4db3a3d949f9746735a2": {
          "model_module": "@jupyter-widgets/controls",
          "model_name": "ProgressStyleModel",
          "model_module_version": "1.5.0",
          "state": {
            "_model_module": "@jupyter-widgets/controls",
            "_model_module_version": "1.5.0",
            "_model_name": "ProgressStyleModel",
            "_view_count": null,
            "_view_module": "@jupyter-widgets/base",
            "_view_module_version": "1.2.0",
            "_view_name": "StyleView",
            "bar_color": null,
            "description_width": ""
          }
        },
        "9855fe720fe64d6c864a01caf1a8d752": {
          "model_module": "@jupyter-widgets/base",
          "model_name": "LayoutModel",
          "model_module_version": "1.2.0",
          "state": {
            "_model_module": "@jupyter-widgets/base",
            "_model_module_version": "1.2.0",
            "_model_name": "LayoutModel",
            "_view_count": null,
            "_view_module": "@jupyter-widgets/base",
            "_view_module_version": "1.2.0",
            "_view_name": "LayoutView",
            "align_content": null,
            "align_items": null,
            "align_self": null,
            "border": null,
            "bottom": null,
            "display": null,
            "flex": null,
            "flex_flow": null,
            "grid_area": null,
            "grid_auto_columns": null,
            "grid_auto_flow": null,
            "grid_auto_rows": null,
            "grid_column": null,
            "grid_gap": null,
            "grid_row": null,
            "grid_template_areas": null,
            "grid_template_columns": null,
            "grid_template_rows": null,
            "height": null,
            "justify_content": null,
            "justify_items": null,
            "left": null,
            "margin": null,
            "max_height": null,
            "max_width": null,
            "min_height": null,
            "min_width": null,
            "object_fit": null,
            "object_position": null,
            "order": null,
            "overflow": null,
            "overflow_x": null,
            "overflow_y": null,
            "padding": null,
            "right": null,
            "top": null,
            "visibility": null,
            "width": null
          }
        },
        "69a17f3ca09149948ce2c97e5f156f34": {
          "model_module": "@jupyter-widgets/controls",
          "model_name": "DescriptionStyleModel",
          "model_module_version": "1.5.0",
          "state": {
            "_model_module": "@jupyter-widgets/controls",
            "_model_module_version": "1.5.0",
            "_model_name": "DescriptionStyleModel",
            "_view_count": null,
            "_view_module": "@jupyter-widgets/base",
            "_view_module_version": "1.2.0",
            "_view_name": "StyleView",
            "description_width": ""
          }
        }
      }
    }
  },
  "cells": [
    {
      "cell_type": "markdown",
      "source": [
        "#Project of 'Laboratorio di Intelligenza Artificiale'\n",
        "Nevi Classification with Machine Learninig for automatic diagnosis of melanoma\n",
        "\n",
        "[![View filled on Github](https://img.shields.io/static/v1.svg?logo=github&label=Repo&message=View%20On%20Github&color=purple)](https://github.com/ValerioSpagnoli/Nevi-Classification/blob/main/Nevi_Classification.ipynb)\n",
        "[![Open filled In Collab](https://colab.research.google.com/assets/colab-badge.svg)](https://colab.research.google.com/drive/1e4YtGOXGq-ZCI5Iun__t99Y4HTTMuQXa?authuser=1#scrollTo=uQbBFaezBVRa)"
      ],
      "metadata": {
        "id": "jHRl4wCg9v7y"
      }
    },
    {
      "cell_type": "markdown",
      "source": [
        "##Import, mount on Google Drive, definition of variables"
      ],
      "metadata": {
        "id": "nedIMk4g-Hrl"
      }
    },
    {
      "cell_type": "code",
      "execution_count": null,
      "metadata": {
        "colab": {
          "base_uri": "https://localhost:8080/"
        },
        "id": "MMjDRjV29tb6",
        "outputId": "ad2a041e-5433-496f-fee8-81dac2b52db3"
      },
      "outputs": [
        {
          "output_type": "stream",
          "name": "stdout",
          "text": [
            "Mounted at /content/drive\n"
          ]
        }
      ],
      "source": [
        "from google.colab import drive\n",
        "drive.mount('/content/drive')"
      ]
    },
    {
      "cell_type": "code",
      "source": [
        "import torch\n",
        "import torch.nn as nn\n",
        "import torch.nn.functional as F\n",
        "import torch.optim as optim\n",
        "from torch.optim import optimizer\n",
        "from torch.utils.data import Dataset, DataLoader, WeightedRandomSampler, ConcatDataset\n",
        "import torchvision\n",
        "from torchvision.models import resnet\n",
        "from torchvision.models.resnet import ResNet18_Weights\n",
        "from torchvision import transforms\n",
        "from torchvision.transforms import AutoAugment, AutoAugmentPolicy\n",
        "import torchaudio\n",
        "\n",
        "import pandas as pd\n",
        "\n",
        "import os\n",
        "\n",
        "from skimage import io\n",
        "from sklearn.metrics import confusion_matrix\n",
        "from sklearn.model_selection import train_test_split\n",
        "from sklearn.metrics import classification_report\n",
        "from sklearn.metrics import confusion_matrix, precision_recall_curve, f1_score, roc_curve, roc_auc_score\n",
        "\n",
        "import matplotlib.pyplot as plt\n",
        "\n",
        "import numpy as np\n",
        "\n",
        "import seaborn as sns\n",
        "\n",
        "from google.colab import files"
      ],
      "metadata": {
        "id": "RVO1fi0P-eGS"
      },
      "execution_count": null,
      "outputs": []
    },
    {
      "cell_type": "code",
      "source": [
        "device = \"cuda\" if torch.cuda.is_available() else \"cpu\"\n",
        "print(f\"Using {device} device\")"
      ],
      "metadata": {
        "colab": {
          "base_uri": "https://localhost:8080/"
        },
        "id": "9igUj8O0-_vf",
        "outputId": "f487c14d-40de-42d5-af97-b9e37de00385"
      },
      "execution_count": null,
      "outputs": [
        {
          "output_type": "stream",
          "name": "stdout",
          "text": [
            "Using cuda device\n"
          ]
        }
      ]
    },
    {
      "cell_type": "code",
      "source": [
        "batch_size = 16\n",
        "num_epochs = 10\n",
        "num_epochs_bld = 13\n",
        "classes = ('benign', 'malignant')"
      ],
      "metadata": {
        "id": "9diRc2nI_C8c"
      },
      "execution_count": null,
      "outputs": []
    },
    {
      "cell_type": "markdown",
      "source": [
        "##Class of Dataset and Loader"
      ],
      "metadata": {
        "id": "Pyi95QMW_Ixq"
      }
    },
    {
      "cell_type": "code",
      "source": [
        "class ISIC_Dataset(Dataset):\n",
        "  def __init__(self, csv_file, img_dir, transform=None, data=None, device=None):\n",
        "    self.img_labels = pd.read_csv(csv_file)\n",
        "    self.img_dir = img_dir\n",
        "    self.transform = transform\n",
        "    self.data = data\n",
        "    self.code_img = None\n",
        "    self.device = device\n",
        "\n",
        "  def __len__(self):\n",
        "    return len(self.img_labels)\n",
        "\n",
        "  def __getitem__(self, idx):\n",
        "    self.code_img = self.img_labels.iloc[idx, 0]\n",
        "    img_path = os.path.join(self.img_dir, self.code_img) + '.jpg'\n",
        "    image = io.imread(img_path)\n",
        "\n",
        "    #benign = 0 malignant = 1\n",
        "    \n",
        "    if(self.data == 'Train'):\n",
        "      label_bm = self.img_labels.iloc[idx, 1]\n",
        "      label = 0\n",
        "      if(label_bm == 'malignant'): \n",
        "        label = 1\n",
        "\n",
        "    elif(self.data == 'Test'):\n",
        "      label = self.img_labels.iloc[idx, 1].astype(np.int64)\n",
        "\n",
        "\n",
        "    if self.transform:\n",
        "      image = self.transform(image)\n",
        "\n",
        "    image.to(self.device)\n",
        "\n",
        "    return image, label"
      ],
      "metadata": {
        "id": "kkJ2sRjh_SAT"
      },
      "execution_count": null,
      "outputs": []
    },
    {
      "cell_type": "code",
      "source": [
        "def get_trainloader(batch_size = None, balanced = None, augment = None):\n",
        "\n",
        "  loader = None\n",
        "  dataset = None\n",
        "\n",
        "  transform = transforms.Compose([transforms.ToPILImage(),\n",
        "                                    transforms.Resize((256, 256)),\n",
        "                                    transforms.ToTensor(),\n",
        "                                    transforms.Normalize(mean=[0.485, 0.456, 0.406], std=[0.229, 0.224, 0.225])])\n",
        "\n",
        "  #dataset = ISIC_Dataset(csv_file = '/content/drive/MyDrive/Università/3° ANNO/2° SEMESTRE/Laboratorio di Intelligenza Artificiale/Progetto/Dataset1/Training/ISBI2016_ISIC_Part3_Training_GroundTruth.csv', \n",
        "  #                      img_dir = '/content/drive/MyDrive/Università/3° ANNO/2° SEMESTRE/Laboratorio di Intelligenza Artificiale/Progetto/Dataset1/Training/ISBI2016_ISIC_Part3_Training_Data', \n",
        "  #                      transform = transform, data = \"Train\", device = device)\n",
        "  \n",
        "  dataset = ISIC_Dataset(csv_file = '/content/drive/MyDrive/Progetto/Dataset1/Training/ISBI2016_ISIC_Part3_Training_GroundTruth.csv', \n",
        "                        img_dir = '/content/drive/MyDrive/Progetto/Dataset1/Training/ISBI2016_ISIC_Part3_Training_Data', \n",
        "                        transform = transform, data = \"Train\", device = device)\n",
        "  \n",
        "\n",
        "  if augment == True:\n",
        "\n",
        "    transform_aug = transforms.Compose([transforms.ToPILImage(),\n",
        "                                    transforms.AutoAugment(policy = AutoAugmentPolicy.IMAGENET),\n",
        "                                    transforms.Resize((256, 256)),\n",
        "                                    transforms.ToTensor(),\n",
        "                                    transforms.Normalize(mean=[0.485, 0.456, 0.406], std=[0.229, 0.224, 0.225])])\n",
        "    \n",
        "    #dataset = ISIC_Dataset(csv_file = '/content/drive/MyDrive/Università/3° ANNO/2° SEMESTRE/Laboratorio di Intelligenza Artificiale/Progetto/Dataset1/Training/ISBI2016_ISIC_Part3_Training_GroundTruth.csv', \n",
        "    #                      img_dir = '/content/drive/MyDrive/Università/3° ANNO/2° SEMESTRE/Laboratorio di Intelligenza Artificiale/Progetto/Dataset1/Training/ISBI2016_ISIC_Part3_Training_Data', \n",
        "    #                      transform = transform_aug, data = \"Train\", device = device)\n",
        "    \n",
        "    dataset_aug = ISIC_Dataset(csv_file = '/content/drive/MyDrive/Progetto/Dataset1/Training/ISBI2016_ISIC_Part3_Training_GroundTruth.csv', \n",
        "                          img_dir = '/content/drive/MyDrive/Progetto/Dataset1/Training/ISBI2016_ISIC_Part3_Training_Data', \n",
        "                          transform = transform_aug, data = \"Train\", device = device)\n",
        "    \n",
        "\n",
        "    dataset = ConcatDataset([dataset, dataset_aug])\n",
        "    \n",
        "\n",
        "\n",
        "  if balanced == True:\n",
        "      \n",
        "    class_weights = [1, 4]\n",
        "    sample_weights = [0] * len(dataset)\n",
        "\n",
        "    for idx, (image, label) in enumerate(dataset):\n",
        "      class_weight = class_weights[label]\n",
        "      sample_weights[idx] = class_weight\n",
        "\n",
        "    sampler = WeightedRandomSampler(sample_weights, num_samples = len(sample_weights), replacement = True)\n",
        "    \n",
        "    loader = DataLoader(dataset, batch_size = batch_size, sampler = sampler)\n",
        "\n",
        "  else:\n",
        "\n",
        "    loader = DataLoader(dataset, batch_size = batch_size, shuffle = True)\n",
        "\n",
        "\n",
        "  if(dataset == None or loader == None or (dataset == None and loader == None)):\n",
        "    print(\"Errore nel setup del loader.\")\n",
        "    return\n",
        "\n",
        "  return loader, dataset"
      ],
      "metadata": {
        "id": "k_x1GoOe_Xlm"
      },
      "execution_count": null,
      "outputs": []
    },
    {
      "cell_type": "code",
      "source": [
        "def get_testloader(batch_size = None, balanced = None):\n",
        "\n",
        "  loader = None\n",
        "  dataset = None\n",
        "  transform = None\n",
        "    \n",
        "  transform = transforms.Compose([transforms.ToPILImage(),\n",
        "                                  transforms.Resize((256, 256)),\n",
        "                                  transforms.ToTensor(),\n",
        "                                  transforms.Normalize(mean=[0.485, 0.456, 0.406], std=[0.229, 0.224, 0.225])])\n",
        "\n",
        "    \n",
        "\n",
        "  #dataset = ISIC_Dataset(csv_file = '/content/drive/MyDrive/Università/3° ANNO/2° SEMESTRE/Laboratorio di Intelligenza Artificiale/Progetto/Dataset1/Training/ISBI2016_ISIC_Part3_Training_GroundTruth.csv', \n",
        "  #                      img_dir = '/content/drive/MyDrive/Università/3° ANNO/2° SEMESTRE/Laboratorio di Intelligenza Artificiale/Progetto/Dataset1/Training/ISBI2016_ISIC_Part3_Training_Data', \n",
        "  #                      transform = transform, data = \"Test\", device = device)\n",
        "  \n",
        "  dataset = ISIC_Dataset(csv_file = '/content/drive/MyDrive/Progetto/Dataset1/Training/ISBI2016_ISIC_Part3_Training_GroundTruth.csv', \n",
        "                        img_dir = '/content/drive/MyDrive/Progetto/Dataset1/Training/ISBI2016_ISIC_Part3_Training_Data', \n",
        "                        transform = transform, data = \"Test\", device = device)\n",
        "\n",
        "\n",
        "  if balanced == True:\n",
        "      \n",
        "    class_weights = [1, 4]\n",
        "    sample_weights = [0] * len(dataset)\n",
        "\n",
        "    for idx, (image, label) in enumerate(dataset):\n",
        "      class_weight = class_weights[label]\n",
        "      sample_weights[idx] = class_weight\n",
        "\n",
        "    sampler = WeightedRandomSampler(sample_weights, num_samples = len(sample_weights), replacement = True)\n",
        "    \n",
        "    loader = DataLoader(dataset, batch_size = batch_size, sampler = sampler)\n",
        "\n",
        "  else:\n",
        "\n",
        "    loader = DataLoader(dataset, batch_size = batch_size, shuffle = True)\n",
        "\n",
        "\n",
        "  if(dataset == None or loader == None or (dataset == None and loader == None)):\n",
        "    print(\"Errore nel setup del loader.\")\n",
        "    return\n",
        "\n",
        "  return loader, dataset"
      ],
      "metadata": {
        "id": "EaCyHCSqGqXG"
      },
      "execution_count": null,
      "outputs": []
    },
    {
      "cell_type": "code",
      "source": [
        "def stat_dataframe(csv_path = None):\n",
        "  df = pd.read_csv(csv_path)\n",
        "  \n",
        "  print(\"Le prime 5 righe del dataset:\\n\")\n",
        "  print(df.head())\n",
        "  print(\"\\n\\n\")\n",
        "  \n",
        "  print(\"Descrizione del dataset:\\n\")\n",
        "  print(df.describe())\n",
        "  print(\"\\n\\n\")\n",
        "\n",
        "  print(\"Percentuale di benigni e maligni nel dataframe:\\n\")\n",
        "  print(df['benign'].value_counts(normalize=True))\n",
        "  bn = df['benign']\n",
        "  sns.displot(bn)\n",
        "  print(\"\\n\\n\")\n",
        "\n",
        "  print(\"Numero di valori nulli del dataset:\\n\")\n",
        "  print(df.isna().sum())\n",
        "  print(\"\\n\\n\")"
      ],
      "metadata": {
        "id": "qDKP3pvd2AKw"
      },
      "execution_count": null,
      "outputs": []
    },
    {
      "cell_type": "code",
      "source": [
        "def stat_loader(data_type = None, loader = None):\n",
        "  num_benign = 0\n",
        "  num_malignant = 0\n",
        "\n",
        "  for i, data in enumerate(loader, 0):\n",
        "      inputs, labels = data\n",
        "      inputs, labels = inputs.to(device), labels.to(device)\n",
        "      for j in range(labels.size()[0]):\n",
        "        if(labels[j] == 0):\n",
        "          num_benign += 1\n",
        "        else:\n",
        "          num_malignant += 1\n",
        "\n",
        "  print(\"Loader shape:\", data_type+\"_loader: \", num_benign+num_malignant, \"\\n\\n\")\n",
        "\n",
        "  print(\"Percentage of benign and malignant nevi in ​​the loader:\\n\")\n",
        "  print(\"benign:\", num_benign/(num_benign+num_malignant))\n",
        "  print(\"malignant:\", num_malignant/(num_benign+num_malignant), \"\\n\\n\")\n",
        "\n",
        "  print(\"About images:\\n\")\n",
        "  train_features, train_labels = next(iter(train_loader))\n",
        "  print(f\"Feature batch shape: {train_features.size()}\")\n",
        "  print(f\"Labels batch shape: {train_labels.size()}\", \"\\n\\n\")\n",
        "\n",
        "  print(\"Printing a batch of images:\\n\")\n",
        "\n",
        "  dataiter = iter(loader)\n",
        "  images, labels = dataiter.next()\n",
        "\n",
        "  imshow(torchvision.utils.make_grid(images))\n",
        "\n",
        "  for i in range(0, batch_size):\n",
        "    if(labels[i]==0):\n",
        "      print(i, 'benign')\n",
        "    else:\n",
        "      print(i, 'malignant')"
      ],
      "metadata": {
        "id": "8kqOkXt0_wrG"
      },
      "execution_count": 91,
      "outputs": []
    },
    {
      "cell_type": "code",
      "source": [
        "def imshow(img):\n",
        "    img[0] = img[0]*0.485 + 0.229     # unnormalize\n",
        "    img[1] = img[1]*0.456 + 0.224\n",
        "    img[2] = img[2]*0.406 + 0.225\n",
        "    npimg = img.numpy()\n",
        "    plt.imshow(np.transpose(npimg, (1, 2, 0)))"
      ],
      "metadata": {
        "id": "UXI4AJP1BdeC"
      },
      "execution_count": null,
      "outputs": []
    },
    {
      "cell_type": "markdown",
      "source": [
        "##Model, Training and Testing"
      ],
      "metadata": {
        "id": "BaXhu_Kc_-ZA"
      }
    },
    {
      "cell_type": "code",
      "source": [
        "def get_model():\n",
        "  model =  torchvision.models.resnet18(weights=ResNet18_Weights.DEFAULT)\n",
        "  for params in model.parameters():\n",
        "    params.requires_grad_ = False\n",
        "\n",
        "  nr_filters = model.fc.in_features\n",
        "  model.fc = nn.Linear(nr_filters, 1)\n",
        "\n",
        "  model.to(device)\n",
        "\n",
        "  criterion = nn.BCEWithLogitsLoss()\n",
        "  optimizer = optim.SGD(model.parameters(), lr = 0.001, momentum = 0.9)\n",
        "  return model, criterion, optimizer"
      ],
      "metadata": {
        "id": "9wNwBCwyDOcI"
      },
      "execution_count": null,
      "outputs": []
    },
    {
      "cell_type": "code",
      "source": [
        "def training(model = None, criterion = None, optimizer = None):\n",
        "\n",
        "  model, criterion, optimizer = model, criterion, optimizer\n",
        "\n",
        "  total_train_loss = []\n",
        "  total_train_acc = []\n",
        "\n",
        "  total_prediction = 0\n",
        "  correct_prediction = 0\n",
        "\n",
        "  total_loss = 0\n",
        "\n",
        "  print('--- Start Training ---')\n",
        "\n",
        "  for epoch in range(num_epochs):  # loop over the dataset multiple times\n",
        "\n",
        "    print(\"\\n\\n--------- Epoch\", epoch, \"---------\")\n",
        "\n",
        "    total_prediction_epoch = 0\n",
        "    correct_prediction_epoch = 0\n",
        "\n",
        "    running_loss = 0.0\n",
        "    for i, data in enumerate(train_loader, 0):\n",
        "\n",
        "      inputs, labels = data\n",
        "      inputs, labels = inputs.to(device), labels.to(device)\n",
        "\n",
        "      optimizer.zero_grad()\n",
        "\n",
        "      outputs = model(inputs)\n",
        "      outputs = torch.transpose(outputs,-1,0)[0]\n",
        "\n",
        "      loss = criterion(outputs, labels.float())\n",
        "\n",
        "      loss.backward()\n",
        "      optimizer.step()\n",
        "\n",
        "      running_loss += loss.item()\n",
        "\n",
        "      outputs = torch.sigmoid(outputs)\n",
        "      prediction = []\n",
        "      target = []\n",
        "\n",
        "      for j in range(0, labels.size()[0]):\n",
        "        out = 0 #benign\n",
        "        if(outputs[j]>=0.5):\n",
        "          out = 1 #malignant\n",
        "        \n",
        "        lab = labels[j]\n",
        "\n",
        "        prediction.append(out)\n",
        "        target.append(lab.item())\n",
        "\n",
        "        if(lab == out):\n",
        "          correct_prediction_epoch += 1\n",
        "          correct_prediction += 1\n",
        "\n",
        "        total_prediction_epoch += 1\n",
        "        total_prediction += 1\n",
        "      #print(\"--- Iteration: \", i, \"\\n\")\n",
        "      #print(\"--- Target:    \", target, \"\\n\")\n",
        "      #print(\"--- Prediction:\", prediction, \"\\n\\n\")\n",
        "        \n",
        "    loss_epoch = round(running_loss/len(train_loader), 5)\n",
        "    total_loss += loss_epoch\n",
        "    total_train_loss.append(loss_epoch)\n",
        "    accuracy_epoch = round(correct_prediction_epoch/total_prediction_epoch * 100, 5)\n",
        "    total_train_acc.append(accuracy_epoch)\n",
        "\n",
        "    print(\"\\nLoss:\", loss_epoch, \" --  Accuracy:\", accuracy_epoch, \"\\n\")\n",
        "\n",
        "  final_accuracy = correct_prediction/total_prediction * 100\n",
        "  final_loss = total_loss / len(train_loader)\n",
        "\n",
        "  print(\"\\n-------------------------------------------------------------------------\\n\\n\")\n",
        "  print(\"Final Loss:\", round(final_loss,5), \"-- Final Accuracy:\", round(final_accuracy,5))\n",
        "\n",
        "\n",
        "  print('\\n--- Finished Training ---')\n",
        "\n",
        "  return total_train_loss, total_train_acc\n",
        "\n"
      ],
      "metadata": {
        "id": "vf5SAS9wA5__"
      },
      "execution_count": null,
      "outputs": []
    },
    {
      "cell_type": "code",
      "source": [
        "def testing(model = None, criterion = None, optimizer = None, total_train_loss = None, total_train_acc = None):\n",
        "\n",
        "  model, criterion, optimizer = model, criterion, optimizer\n",
        "\n",
        "\n",
        "  total_prediction = 0\n",
        "  correct_prediction = 0\n",
        "\n",
        "  with torch.no_grad():\n",
        "\n",
        "    for i, data in enumerate(test_loader, 0):\n",
        "\n",
        "      inputs, labels = data\n",
        "      inputs, labels = inputs.to(device), labels.to(device)\n",
        "\n",
        "      #outputs = net(inputs)\n",
        "      outputs = model(inputs)\n",
        "      outputs = torch.sigmoid(outputs) \n",
        "\n",
        "      for j in range(0, labels.size()[0]):\n",
        "        out = 0\n",
        "        if(outputs[j]>=0.5):\n",
        "          out = 1\n",
        "\n",
        "        lab = labels[j]\n",
        "\n",
        "        if(lab == out):\n",
        "          correct_prediction += 1\n",
        "\n",
        "        total_prediction += 1\n",
        "        \n",
        "    final_accuracy = round(correct_prediction/total_prediction * 100, 2)\n",
        "\n",
        "  print(\"Test Accuracy:\", final_accuracy, \"%\")\n",
        "\n",
        "  benign_correct = 0\n",
        "  benign_total = 0\n",
        "  malignant_correct = 0\n",
        "  malignant_total = 0\n",
        "\n",
        "  with torch.no_grad():\n",
        "      for data in test_loader:\n",
        "          images, labels = data\n",
        "          images, labels = images.to(device), labels.to(device)\n",
        "\n",
        "          outputs = model(images)\n",
        "          outputs = torch.sigmoid(outputs) \n",
        "          \n",
        "          for i in range(0, labels.size()[0]):\n",
        "            \n",
        "            if(labels[i] == 0): # benign\n",
        "              benign_total += 1\n",
        "              if(outputs[i]<0.5):\n",
        "                benign_correct += 1\n",
        "\n",
        "            elif(labels[i] == 1): # benign\n",
        "              malignant_total += 1\n",
        "              if(outputs[i]>=0.5):\n",
        "                malignant_correct += 1\n",
        "\n",
        "  print('Accuracy of \"benign\" on test images: %d %%' % (100 * benign_correct / benign_total))\n",
        "  print('Accuracy of \"malignant\" on test images: %d %%' % (100 * malignant_correct / malignant_total))\n",
        "\n",
        "  \n",
        "  Y = []\n",
        "  Y_hat = []\n",
        "  X_test = []\n",
        "\n",
        "  total_train_loss = total_train_loss\n",
        "  total_train_acc = total_train_acc\n",
        "\n",
        "  with torch.no_grad():\n",
        "    for data in test_loader:\n",
        "        images, label = data\n",
        "        images, labels = images.to(device), labels.to(device)\n",
        "\n",
        "        outputs = model(images)\n",
        "\n",
        "        for i in range(0, labels.size()[0]):\n",
        "          Y.append(labels[i].item())\n",
        "          if(torch.sigmoid(outputs[i][0]).item()<0.5):\n",
        "            Y_hat.append(0)\n",
        "          else:\n",
        "            Y_hat.append(1)\n",
        "        \n",
        "\n",
        "  #print(Y)\n",
        "  #print(Y_hat)\n",
        "\n",
        "  cm = confusion_matrix(Y, Y_hat)\n",
        "  plt.figure()\n",
        "  sns.set(font_scale=1.5)\n",
        "  hm = sns.heatmap(cm, cbar=True, annot=True, square=True, fmt='.2f', annot_kws={'size': 15}, yticklabels=['0', '1'], xticklabels=['0', '1'])\n",
        "  plt.title('Confusion Matrix')\n",
        "  plt.ylabel('Ground Truth')\n",
        "  plt.xlabel('Prediction')\n",
        "  plt.show()\n",
        "\n",
        "  plt.plot(total_train_loss, label = 'training loss')\n",
        "  plt.legend()\n",
        "  plt.plot(total_train_acc, label = 'training accuracy')\n",
        "  plt.legend()\n",
        "  plt.figure(figsize=(20, 14), dpi=80)\n",
        "  plt.show()"
      ],
      "metadata": {
        "id": "6pW7zm2lHkFx"
      },
      "execution_count": null,
      "outputs": []
    },
    {
      "cell_type": "code",
      "source": [
        "def test_on_1batch(test_loader = None, model = None):\n",
        "\n",
        "  dataiter = iter(test_loader)\n",
        "  images, labels = dataiter.next()\n",
        "\n",
        "  imshow(torchvision.utils.make_grid(images))\n",
        "  \n",
        "  images, labels = images.to(device), labels.to(device)\n",
        "\n",
        "  outputs = model(images)\n",
        "  outputs = torch.sigmoid(outputs)\n",
        "\n",
        "  out = []\n",
        "\n",
        "  for elem in outputs:\n",
        "    if elem.item() >= 0.5:\n",
        "      out.append(1)\n",
        "    elif elem.item() < 0.5:\n",
        "      out.append(0)\n",
        "\n",
        "  print(\"idx | Ground Truth | Prediction\")\n",
        "  print(\"----|--------------|-----------\")\n",
        "\n",
        "  for i in range(0, batch_size):\n",
        "    print(i, \"  |\" if i < 10 else \" |\", classes[labels[i]]+\"     \" if labels[i] == 0 else classes[labels[i]]+\"  \", \" |\", classes[out[i]])"
      ],
      "metadata": {
        "id": "iVbWzNxp0-D_"
      },
      "execution_count": null,
      "outputs": []
    },
    {
      "cell_type": "markdown",
      "source": [
        "##Nevi Classification"
      ],
      "metadata": {
        "id": "WF7gan_KJuc8"
      }
    },
    {
      "cell_type": "code",
      "source": [
        "#stat_dataframe('/content/drive/MyDrive/Università/3° ANNO/2° SEMESTRE/Laboratorio di Intelligenza Artificiale/Progetto/Dataset1/Training/ISBI2016_ISIC_Part3_Training_GroundTruth.csv')\n",
        "stat_dataframe('/content/drive/MyDrive/Progetto/Dataset1/Training/ISBI2016_ISIC_Part3_Training_GroundTruth.csv')"
      ],
      "metadata": {
        "colab": {
          "base_uri": "https://localhost:8080/",
          "height": 998
        },
        "id": "pzi7rNTz3fPo",
        "outputId": "3171261b-9e4f-43c0-8318-de4dfa177287"
      },
      "execution_count": null,
      "outputs": [
        {
          "output_type": "stream",
          "name": "stdout",
          "text": [
            "Le prime 5 righe del dataset:\n",
            "\n",
            "   ISIC_0000000     benign\n",
            "0  ISIC_0000001     benign\n",
            "1  ISIC_0000002  malignant\n",
            "2  ISIC_0000004  malignant\n",
            "3  ISIC_0000006     benign\n",
            "4  ISIC_0000007     benign\n",
            "\n",
            "\n",
            "\n",
            "Descrizione del dataset:\n",
            "\n",
            "        ISIC_0000000  benign\n",
            "count            899     899\n",
            "unique           899       2\n",
            "top     ISIC_0000001  benign\n",
            "freq               1     726\n",
            "\n",
            "\n",
            "\n",
            "Percentuale di benigni e maligni nel dataframe:\n",
            "\n",
            "benign       0.807564\n",
            "malignant    0.192436\n",
            "Name: benign, dtype: float64\n",
            "\n",
            "\n",
            "\n",
            "Numero di valori nulli del dataset:\n",
            "\n",
            "ISIC_0000000    0\n",
            "benign          0\n",
            "dtype: int64\n",
            "\n",
            "\n",
            "\n"
          ]
        },
        {
          "output_type": "display_data",
          "data": {
            "text/plain": [
              "<Figure size 360x360 with 1 Axes>"
            ],
            "image/png": "[encoded data removed]"
          },
          "metadata": {
            "needs_background": "light"
          }
        }
      ]
    },
    {
      "cell_type": "code",
      "source": [
        "train_loader, train_set = get_trainloader(batch_size = batch_size, balanced = True, augment = True)"
      ],
      "metadata": {
        "id": "_Dbzveo5zxm1"
      },
      "execution_count": null,
      "outputs": []
    },
    {
      "cell_type": "code",
      "source": [
        "test_loader, test_set = get_trainloader(batch_size = batch_size, balanced = True)"
      ],
      "metadata": {
        "id": "NJeWJMI8zwzR"
      },
      "execution_count": null,
      "outputs": []
    },
    {
      "cell_type": "code",
      "source": [
        "stat_loader(data_type = \"Train\", loader = train_loader)"
      ],
      "metadata": {
        "id": "07REZ2HE7HHT",
        "colab": {
          "base_uri": "https://localhost:8080/",
          "height": 727
        },
        "outputId": "8be95f9c-dc9e-4e6d-bfc1-75df433b350f"
      },
      "execution_count": 92,
      "outputs": [
        {
          "output_type": "stream",
          "name": "stdout",
          "text": [
            "Loader shape: Train_loader:  1798 \n",
            "\n",
            "\n",
            "Percentage of benign and malignant nevi in ​​the loader:\n",
            "\n",
            "benign: 0.5061179087875417\n",
            "malignant: 0.4938820912124583 \n",
            "\n",
            "\n",
            "About images:\n",
            "\n",
            "Feature batch shape: torch.Size([16, 3, 256, 256])\n",
            "Labels batch shape: torch.Size([16]) \n",
            "\n",
            "\n",
            "Printing a batch of images:\n",
            "\n"
          ]
        },
        {
          "output_type": "stream",
          "name": "stderr",
          "text": [
            "WARNING:matplotlib.image:Clipping input data to the valid range for imshow with RGB data ([0..1] for floats or [0..255] for integers).\n"
          ]
        },
        {
          "output_type": "stream",
          "name": "stdout",
          "text": [
            "0 benign\n",
            "1 benign\n",
            "2 malignant\n",
            "3 benign\n",
            "4 benign\n",
            "5 malignant\n",
            "6 malignant\n",
            "7 benign\n",
            "8 benign\n",
            "9 malignant\n",
            "10 benign\n",
            "11 benign\n",
            "12 malignant\n",
            "13 benign\n",
            "14 benign\n",
            "15 malignant\n"
          ]
        },
        {
          "output_type": "display_data",
          "data": {
            "text/plain": [
              "<Figure size 432x288 with 1 Axes>"
            ],
            "image/png": "[encoded data removed]"
          },
          "metadata": {}
        }
      ]
    },
    {
      "cell_type": "code",
      "source": [
        "model, criterion, optimizer = get_model()"
      ],
      "metadata": {
        "colab": {
          "base_uri": "https://localhost:8080/",
          "height": 66,
          "referenced_widgets": [
            "bf77258a8640479982cb8c0f40bcc1cd",
            "ee530a5e92f64cd2a9c2556c66866c6c",
            "a5f6be86765344de8d3c65cba459fdf1",
            "869a07e475154e9981f36067a7a1c4e9",
            "39a5d6c451dc464e892c5ad6948ef374",
            "9a428c61121a433291112a9e242e38ae",
            "3b0c5488f5be481aa2bc48d1f848564c",
            "83d73d87dddd499a893178ebd3c58fb7",
            "49edd044a7fd4db3a3d949f9746735a2",
            "9855fe720fe64d6c864a01caf1a8d752",
            "69a17f3ca09149948ce2c97e5f156f34"
          ]
        },
        "id": "J0A3e41fJxnk",
        "outputId": "ab09e759-4a71-4b64-e426-7456b4bd948c"
      },
      "execution_count": null,
      "outputs": [
        {
          "output_type": "stream",
          "name": "stderr",
          "text": [
            "Downloading: \"https://download.pytorch.org/models/resnet18-f37072fd.pth\" to /root/.cache/torch/hub/checkpoints/resnet18-f37072fd.pth\n"
          ]
        },
        {
          "output_type": "display_data",
          "data": {
            "text/plain": [
              "  0%|          | 0.00/44.7M [00:00<?, ?B/s]"
            ],
            "application/vnd.jupyter.widget-view+json": {
              "version_major": 2,
              "version_minor": 0,
              "model_id": "bf77258a8640479982cb8c0f40bcc1cd"
            }
          },
          "metadata": {}
        }
      ]
    },
    {
      "cell_type": "code",
      "source": [
        "total_train_loss, total_train_acc = training(model = model, criterion = criterion, optimizer = optimizer)"
      ],
      "metadata": {
        "colab": {
          "base_uri": "https://localhost:8080/"
        },
        "id": "nnRo89_mJ73L",
        "outputId": "fedeb2f9-33f2-44af-b280-92748b7b3c00"
      },
      "execution_count": null,
      "outputs": [
        {
          "output_type": "stream",
          "name": "stdout",
          "text": [
            "--- Start Training ---\n",
            "\n",
            "\n",
            "--------- Epoch 0 ---------\n",
            "\n",
            "Loss: 0.54532  --  Accuracy: 71.02336 \n",
            "\n",
            "\n",
            "\n",
            "--------- Epoch 1 ---------\n",
            "\n",
            "Loss: 0.39491  --  Accuracy: 82.14683 \n",
            "\n",
            "\n",
            "\n",
            "--------- Epoch 2 ---------\n",
            "\n",
            "Loss: 0.29534  --  Accuracy: 87.76418 \n",
            "\n",
            "\n",
            "\n",
            "--------- Epoch 3 ---------\n",
            "\n",
            "Loss: 0.24353  --  Accuracy: 89.76641 \n",
            "\n",
            "\n",
            "\n",
            "--------- Epoch 4 ---------\n",
            "\n",
            "Loss: 0.21746  --  Accuracy: 90.43382 \n",
            "\n",
            "\n",
            "\n",
            "--------- Epoch 5 ---------\n",
            "\n",
            "Loss: 0.1745  --  Accuracy: 93.04783 \n",
            "\n",
            "\n",
            "\n",
            "--------- Epoch 6 ---------\n",
            "\n",
            "Loss: 0.14473  --  Accuracy: 94.32703 \n",
            "\n",
            "\n",
            "\n",
            "--------- Epoch 7 ---------\n",
            "\n",
            "Loss: 0.15043  --  Accuracy: 93.77086 \n",
            "\n",
            "\n",
            "\n",
            "--------- Epoch 8 ---------\n",
            "\n",
            "Loss: 0.11987  --  Accuracy: 95.43938 \n",
            "\n",
            "\n",
            "\n",
            "--------- Epoch 9 ---------\n",
            "\n",
            "Loss: 0.1456  --  Accuracy: 94.04894 \n",
            "\n",
            "\n",
            "-------------------------------------------------------------------------\n",
            "\n",
            "\n",
            "Final Loss: 0.02152 -- Final Accuracy: 89.17686\n",
            "\n",
            "--- Finished Training ---\n"
          ]
        }
      ]
    },
    {
      "cell_type": "code",
      "source": [
        "test_on_1batch(test_loader = test_loader, model = model)"
      ],
      "metadata": {
        "id": "HdFFdEKX0TiP",
        "colab": {
          "base_uri": "https://localhost:8080/",
          "height": 472
        },
        "outputId": "347a70d9-eab0-4ce8-ac1a-036947fa488f"
      },
      "execution_count": null,
      "outputs": [
        {
          "output_type": "stream",
          "name": "stderr",
          "text": [
            "WARNING:matplotlib.image:Clipping input data to the valid range for imshow with RGB data ([0..1] for floats or [0..255] for integers).\n"
          ]
        },
        {
          "output_type": "stream",
          "name": "stdout",
          "text": [
            "idx | Ground Truth | Prediction\n",
            "----|--------------|-----------\n",
            "0   | benign       | benign\n",
            "1   | benign       | benign\n",
            "2   | malignant    | malignant\n",
            "3   | benign       | benign\n",
            "4   | malignant    | malignant\n",
            "5   | malignant    | malignant\n",
            "6   | benign       | benign\n",
            "7   | benign       | benign\n",
            "8   | malignant    | malignant\n",
            "9   | malignant    | malignant\n",
            "10  | benign       | benign\n",
            "11  | benign       | benign\n",
            "12  | malignant    | malignant\n",
            "13  | malignant    | malignant\n",
            "14  | benign       | benign\n",
            "15  | benign       | benign\n"
          ]
        },
        {
          "output_type": "display_data",
          "data": {
            "text/plain": [
              "<Figure size 432x288 with 1 Axes>"
            ],
            "image/png": "[encoded data removed]"
          },
          "metadata": {}
        }
      ]
    },
    {
      "cell_type": "code",
      "source": [
        "testing(model = model, criterion = criterion, optimizer = optimizer, total_train_loss = total_train_loss, total_train_acc = total_train_acc)"
      ],
      "metadata": {
        "id": "EQPIqbDq0Ymt",
        "colab": {
          "base_uri": "https://localhost:8080/",
          "height": 651
        },
        "outputId": "f1c95309-241b-442f-81f9-451eb80fbc56"
      },
      "execution_count": null,
      "outputs": [
        {
          "output_type": "stream",
          "name": "stdout",
          "text": [
            "Test Accuracy: 97.33 %\n",
            "Accuracy of \"benign\" on test images: 96 %\n",
            "Accuracy of \"malignant\" on test images: 98 %\n"
          ]
        },
        {
          "output_type": "display_data",
          "data": {
            "text/plain": [
              "<Figure size 432x288 with 2 Axes>"
            ],
            "image/png": "[encoded data removed]"
          },
          "metadata": {
            "needs_background": "light"
          }
        },
        {
          "output_type": "display_data",
          "data": {
            "text/plain": [
              "<Figure size 432x288 with 1 Axes>"
            ],
            "image/png": "[encoded data removed]"
          },
          "metadata": {}
        },
        {
          "output_type": "display_data",
          "data": {
            "text/plain": [
              "<Figure size 1600x1120 with 0 Axes>"
            ]
          },
          "metadata": {}
        }
      ]
    }
  ]
}